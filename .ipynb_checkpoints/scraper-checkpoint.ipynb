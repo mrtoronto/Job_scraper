{
 "cells": [
  {
   "cell_type": "code",
   "execution_count": 26,
   "metadata": {},
   "outputs": [],
   "source": [
    "import pandas as pd\n",
    "import time \n",
    "import math\n",
    "import requests\n",
    "from selenium import webdriver\n",
    "from bs4 import BeautifulSoup\n",
    "import urllib.request\n",
    "import datasheets\n",
    "import lxml.html\n",
    "import sys\n",
    "import pickle\n",
    "from selenium.webdriver.chrome.options import Options"
   ]
  },
  {
   "cell_type": "code",
   "execution_count": 25,
   "metadata": {},
   "outputs": [],
   "source": [
    "from stack_scraper import stack_scraper"
   ]
  },
  {
   "cell_type": "code",
   "execution_count": 24,
   "metadata": {},
   "outputs": [],
   "source": [
    "from linkedin_scraper import linkedin_scraper"
   ]
  },
  {
   "cell_type": "code",
   "execution_count": null,
   "metadata": {},
   "outputs": [],
   "source": [
    "from indeed_scraper import indeed_scraper"
   ]
  },
  {
   "cell_type": "code",
   "execution_count": 23,
   "metadata": {},
   "outputs": [],
   "source": [
    "from docs_push import push_to_docs"
   ]
  },
  {
   "cell_type": "code",
   "execution_count": null,
   "metadata": {},
   "outputs": [],
   "source": [
    "def ult_scrap(results, job_title, city, site_list, linkedin_username, linkedin_password, chromedriver_location, api_key, headless_arg, push_to_docs_flag=False):\n",
    "\n",
    "    options = Options()\n",
    "    for arg in [ '--no-sandbox', '--disable-gpu', 'start-maximized', 'disable-infobars', '--disable-extensions']:\n",
    "        options.add_argument(arg)\n",
    "    if headless_arg == True:\n",
    "        options.add_argument('--headless')\n",
    "    wd = webdriver.Chrome(chromedriver_location, options=options)\n",
    "    \n",
    "    job_df = pd.DataFrame()\n",
    "    \n",
    "    for site in site_list: \n",
    "        \n",
    "        if site == 'stack':\n",
    "            stack_df = stack_scraper(wd, results, job_title, city)\n",
    "            job_df = job_df.append(stack_df, sort=False)\n",
    "            \n",
    "        if site == 'indeed':\n",
    "            indeed_df = indeed_scraper(wd, results, job_title, city)\n",
    "            job_df = job_df.append(indeed_df, sort=False)\n",
    "            \n",
    "                    \n",
    "        if site == 'linkedin':\n",
    "            linkedin_df = linkedin_scraper(wd, results, job_title, city, linkedin_username, linkedin_password)\n",
    "            job_df = job_df.append(linkedin_df, sort=False)\n",
    "            \n",
    "    wd.stop_client()\n",
    "    wd.quit()\n",
    "    \n",
    "    if push_to_docs_flag == True:\n",
    "        push_to_docs(df=job_df, book_name='NA', sheet_name='test')\n",
    "    return job_df"
   ]
  },
  {
   "cell_type": "code",
   "execution_count": null,
   "metadata": {
    "scrolled": false
   },
   "outputs": [],
   "source": [
    "param_dict_git = {\n",
    "    'results' : 8,\n",
    "    'job_title' : 'python',\n",
    "    'city' : 'boston',\n",
    "    'site_list' : ['indeed'],\n",
    "    'linkedin_username' : 'YOUREMAIL',\n",
    "    'linkedin_password' : 'YOURPASS',\n",
    "    'chromedriver_location' : 'YOURCHROMEDRIVERLOC',\n",
    "    'api_key' : 'APIKEY' ,\n",
    "    'headless_arg' : True,\n",
    "    'push_to_docs_flag' : True\n",
    "    'google_docs_email' : 'DOCSEMAIL', \n",
    "    'docs_book' : 'DOCSBOOK', \n",
    "    'docs_sheet' : 'test'\n",
    "}\n",
    "\n",
    "\n",
    "\n",
    "fetch = ult_scrap(**param_dict)\n",
    "fetch"
   ]
  },
  {
   "cell_type": "code",
   "execution_count": null,
   "metadata": {},
   "outputs": [],
   "source": []
  },
  {
   "cell_type": "code",
   "execution_count": null,
   "metadata": {},
   "outputs": [],
   "source": []
  },
  {
   "cell_type": "code",
   "execution_count": null,
   "metadata": {},
   "outputs": [],
   "source": []
  },
  {
   "cell_type": "code",
   "execution_count": null,
   "metadata": {},
   "outputs": [],
   "source": []
  },
  {
   "cell_type": "code",
   "execution_count": null,
   "metadata": {},
   "outputs": [],
   "source": []
  },
  {
   "cell_type": "code",
   "execution_count": null,
   "metadata": {},
   "outputs": [],
   "source": []
  },
  {
   "cell_type": "code",
   "execution_count": null,
   "metadata": {},
   "outputs": [],
   "source": []
  }
 ],
 "metadata": {
  "kernelspec": {
   "display_name": "Python 3",
   "language": "python",
   "name": "python3"
  },
  "language_info": {
   "codemirror_mode": {
    "name": "ipython",
    "version": 3
   },
   "file_extension": ".py",
   "mimetype": "text/x-python",
   "name": "python",
   "nbconvert_exporter": "python",
   "pygments_lexer": "ipython3",
   "version": "3.6.5"
  }
 },
 "nbformat": 4,
 "nbformat_minor": 2
}
